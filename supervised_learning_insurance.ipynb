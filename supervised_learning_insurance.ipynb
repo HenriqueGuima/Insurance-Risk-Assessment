{
 "cells": [
  {
   "cell_type": "markdown",
   "metadata": {},
   "source": [
    "# Dataset of Insurance\n",
    "\n",
    "# Objective\n",
    "\n",
    "Identify high-risk customers who are more likely to make claims or commit fraud.\n",
    "\n",
    "# Model Type\n",
    "Classification\n",
    "\n",
    "# Target Variable\n",
    "Create a derived target variable (e.g., High Risk = 1, Low Risk = 0) based on factors such as frequent claims or unusual patterns in policy usage.\n",
    "\n",
    "# Features\n",
    "Include Previous Claims, Credit Score, Vehicle Age, Policy Type, Health Score, etc."
   ]
  },
  {
   "cell_type": "markdown",
   "metadata": {},
   "source": [
    "# Exploratory Data Analysis"
   ]
  },
  {
   "cell_type": "code",
   "execution_count": 87,
   "metadata": {},
   "outputs": [],
   "source": [
    "import pandas as pd\n",
    "import numpy as np\n",
    "import matplotlib.pyplot as plt\n",
    "import seaborn as sns\n",
    "from sklearn.preprocessing import StandardScaler\n",
    "from sklearn.model_selection import train_test_split\n",
    "from sklearn.linear_model import LogisticRegression\n",
    "from sklearn.metrics import classification_report\n",
    "from sklearn.metrics import confusion_matrix\n",
    "from sklearn.metrics import roc_auc_score\n",
    "\n",
    "import warnings\n",
    "warnings.filterwarnings('ignore', category=FutureWarning)\n",
    "\n"
   ]
  },
  {
   "cell_type": "code",
   "execution_count": 88,
   "metadata": {},
   "outputs": [
    {
     "name": "stdout",
     "output_type": "stream",
     "text": [
      "    Age  Gender  Annual Income Marital Status  Number of Dependents  \\\n",
      "0  56.0    Male        99990.0        Married                   1.0   \n",
      "1  46.0    Male         2867.0         Single                   1.0   \n",
      "2  32.0  Female        30154.0       Divorced                   3.0   \n",
      "3  60.0  Female        48371.0       Divorced                   0.0   \n",
      "4  25.0  Female        54174.0       Divorced                   0.0   \n",
      "\n",
      "  Education Level     Occupation  Health Score  Location    Policy Type  \\\n",
      "0        Master's            NaN     31.074627     Urban  Comprehensive   \n",
      "1      Bachelor's            NaN     50.271335     Urban  Comprehensive   \n",
      "2      Bachelor's            NaN     14.714909  Suburban  Comprehensive   \n",
      "3             PhD  Self-Employed     25.346926     Rural  Comprehensive   \n",
      "4     High School  Self-Employed      6.659499     Urban  Comprehensive   \n",
      "\n",
      "   Previous Claims  Vehicle Age  Credit Score  Insurance Duration  \\\n",
      "0              NaN           13         320.0                   5   \n",
      "1              NaN            3         694.0                   4   \n",
      "2              2.0           16         652.0                   8   \n",
      "3              1.0           11         330.0                   7   \n",
      "4              NaN            9           NaN                   8   \n",
      "\n",
      "   Premium Amount           Policy Start Date Customer Feedback  \\\n",
      "0           308.0  2022-12-10 15:21:39.078837              Poor   \n",
      "1           517.0  2023-01-31 15:21:39.078837              Good   \n",
      "2           849.0  2023-11-26 15:21:39.078837              Poor   \n",
      "3           927.0  2023-02-27 15:21:39.078837              Poor   \n",
      "4           303.0  2020-11-25 15:21:39.078837              Poor   \n",
      "\n",
      "  Smoking Status Exercise Frequency Property Type  \n",
      "0            Yes              Daily         Condo  \n",
      "1            Yes            Monthly         House  \n",
      "2             No            Monthly         House  \n",
      "3             No             Rarely         Condo  \n",
      "4             No             Rarely         Condo  \n"
     ]
    }
   ],
   "source": [
    "# Load the data\n",
    "data = pd.read_csv('insurance_premium_dataset.csv')\n",
    "\n",
    "# Display the first 5 rows of the data\n",
    "print(data.head())"
   ]
  },
  {
   "cell_type": "code",
   "execution_count": 89,
   "metadata": {},
   "outputs": [
    {
     "name": "stdout",
     "output_type": "stream",
     "text": [
      "<class 'pandas.core.frame.DataFrame'>\n",
      "RangeIndex: 278860 entries, 0 to 278859\n",
      "Data columns (total 20 columns):\n",
      " #   Column                Non-Null Count   Dtype  \n",
      "---  ------                --------------   -----  \n",
      " 0   Age                   274175 non-null  float64\n",
      " 1   Gender                278860 non-null  object \n",
      " 2   Annual Income         264905 non-null  float64\n",
      " 3   Marital Status        273841 non-null  object \n",
      " 4   Number of Dependents  250974 non-null  float64\n",
      " 5   Education Level       278860 non-null  object \n",
      " 6   Occupation            197572 non-null  object \n",
      " 7   Health Score          268263 non-null  float64\n",
      " 8   Location              278860 non-null  object \n",
      " 9   Policy Type           278860 non-null  object \n",
      " 10  Previous Claims       197572 non-null  float64\n",
      " 11  Vehicle Age           278860 non-null  int64  \n",
      " 12  Credit Score          250974 non-null  float64\n",
      " 13  Insurance Duration    278860 non-null  int64  \n",
      " 14  Premium Amount        277019 non-null  float64\n",
      " 15  Policy Start Date     278860 non-null  object \n",
      " 16  Customer Feedback     260511 non-null  object \n",
      " 17  Smoking Status        278860 non-null  object \n",
      " 18  Exercise Frequency    278860 non-null  object \n",
      " 19  Property Type         278860 non-null  object \n",
      "dtypes: float64(7), int64(2), object(11)\n",
      "memory usage: 42.6+ MB\n",
      "None\n"
     ]
    }
   ],
   "source": [
    "# Display the data info\n",
    "print(data.info())"
   ]
  },
  {
   "cell_type": "code",
   "execution_count": 90,
   "metadata": {},
   "outputs": [
    {
     "name": "stdout",
     "output_type": "stream",
     "text": [
      "['Married' 'Single' 'Divorced' nan]\n"
     ]
    }
   ],
   "source": [
    "# Display unique values of marital_status\n",
    "print(data['Marital Status'].unique())"
   ]
  },
  {
   "cell_type": "code",
   "execution_count": 91,
   "metadata": {},
   "outputs": [
    {
     "name": "stdout",
     "output_type": "stream",
     "text": [
      "[\"Master's\" \"Bachelor's\" 'PhD' 'High School']\n"
     ]
    }
   ],
   "source": [
    "# Display Education level unique values\n",
    "print(data['Education Level'].unique())"
   ]
  },
  {
   "cell_type": "code",
   "execution_count": 92,
   "metadata": {},
   "outputs": [
    {
     "name": "stdout",
     "output_type": "stream",
     "text": [
      "[nan 'Self-Employed' 'Employed' 'Unemployed']\n"
     ]
    }
   ],
   "source": [
    "# Display the unique values of the occupation\n",
    "print(data['Occupation'].unique())"
   ]
  },
  {
   "cell_type": "code",
   "execution_count": 93,
   "metadata": {},
   "outputs": [
    {
     "name": "stdout",
     "output_type": "stream",
     "text": [
      "[31.07462657 50.27133475 14.71490926 ... 62.11222983  6.16391939\n",
      " 25.96209725]\n"
     ]
    }
   ],
   "source": [
    "# Display the unique values of the Health Score\n",
    "print(data['Health Score'].unique())"
   ]
  },
  {
   "cell_type": "code",
   "execution_count": 94,
   "metadata": {},
   "outputs": [
    {
     "name": "stdout",
     "output_type": "stream",
     "text": [
      "['Comprehensive' 'Premium' 'Basic']\n"
     ]
    }
   ],
   "source": [
    "# Display the unique values of the Policy Type\n",
    "print(data['Policy Type'].unique())"
   ]
  },
  {
   "cell_type": "code",
   "execution_count": 95,
   "metadata": {},
   "outputs": [
    {
     "name": "stdout",
     "output_type": "stream",
     "text": [
      "['Urban' 'Suburban' 'Rural']\n"
     ]
    }
   ],
   "source": [
    "# Display the unique values of the Location\n",
    "print(data['Location'].unique())"
   ]
  },
  {
   "cell_type": "code",
   "execution_count": 96,
   "metadata": {},
   "outputs": [
    {
     "name": "stdout",
     "output_type": "stream",
     "text": [
      "[nan  2.  1.  0.  3.  4.  5.  6.  7.  9.  8.]\n"
     ]
    }
   ],
   "source": [
    "# Display the unique values of the Previous Claims\n",
    "print(data['Previous Claims'].unique())"
   ]
  },
  {
   "cell_type": "code",
   "execution_count": 97,
   "metadata": {},
   "outputs": [
    {
     "name": "stdout",
     "output_type": "stream",
     "text": [
      "['Poor' 'Good' 'Average' nan]\n"
     ]
    }
   ],
   "source": [
    "# Display the unique values of the Premium Amount\n",
    "print(data['Customer Feedback'].unique())"
   ]
  },
  {
   "cell_type": "code",
   "execution_count": 98,
   "metadata": {},
   "outputs": [
    {
     "name": "stdout",
     "output_type": "stream",
     "text": [
      "['Yes' 'No']\n"
     ]
    }
   ],
   "source": [
    "# Display the unique values of the Smoking Status\n",
    "print(data['Smoking Status'].unique())"
   ]
  },
  {
   "cell_type": "code",
   "execution_count": 99,
   "metadata": {},
   "outputs": [
    {
     "name": "stdout",
     "output_type": "stream",
     "text": [
      "['Daily' 'Monthly' 'Rarely' 'Weekly']\n"
     ]
    }
   ],
   "source": [
    "# Display the unique values of the Exercise Frequency\n",
    "print(data['Exercise Frequency'].unique())"
   ]
  },
  {
   "cell_type": "code",
   "execution_count": 100,
   "metadata": {},
   "outputs": [
    {
     "name": "stdout",
     "output_type": "stream",
     "text": [
      "['Condo' 'House' 'Apartment']\n"
     ]
    }
   ],
   "source": [
    "# Display the unique values of the Property Type\n",
    "print(data['Property Type'].unique())"
   ]
  },
  {
   "cell_type": "markdown",
   "metadata": {},
   "source": [
    "Age to Int - v\n",
    "Convert gender to binary - v\n",
    "Convert marital status to 0, 1, 2 - v\n",
    "Convert number of dependents to int - v\n",
    "Convert Education level to 0, 1, 2, 3\n",
    "Convert Occupation to 0, 1, 2\n",
    "Convert Policy Type to 0, 1, 2\n",
    "Convert Location to 0, 1, 2\n",
    "Convert Previous Claims to int\n",
    "Credit Score to int\n",
    "Premium Amount to int\n",
    "Customer Feedback to int\n",
    "Smoking Status to binary\n",
    "Exercise Frequency to int\n",
    "Property Type to int"
   ]
  },
  {
   "cell_type": "markdown",
   "metadata": {},
   "source": [
    "# Missing values"
   ]
  },
  {
   "cell_type": "code",
   "execution_count": 101,
   "metadata": {},
   "outputs": [
    {
     "data": {
      "image/png": "[encoded data removed]",
      "text/plain": [
       "<Figure size 640x480 with 1 Axes>"
      ]
     },
     "metadata": {},
     "output_type": "display_data"
    },
    {
     "name": "stdout",
     "output_type": "stream",
     "text": [
      "Age                      4685\n",
      "Gender                      0\n",
      "Annual Income           13955\n",
      "Marital Status           5019\n",
      "Number of Dependents    27886\n",
      "Education Level             0\n",
      "Occupation              81288\n",
      "Health Score            10597\n",
      "Location                    0\n",
      "Policy Type                 0\n",
      "Previous Claims         81288\n",
      "Vehicle Age                 0\n",
      "Credit Score            27886\n",
      "Insurance Duration          0\n",
      "Premium Amount           1841\n",
      "Policy Start Date           0\n",
      "Customer Feedback       18349\n",
      "Smoking Status              0\n",
      "Exercise Frequency          0\n",
      "Property Type               0\n",
      "dtype: int64\n"
     ]
    }
   ],
   "source": [
    "# Check for missing values\n",
    "\n",
    "sns.heatmap(data.isnull(), cbar=False, cmap='viridis')\n",
    "plt.title(\"Missing Data Heatmap\")\n",
    "plt.show()\n",
    "\n",
    "print(data.isnull().sum())"
   ]
  },
  {
   "cell_type": "code",
   "execution_count": 102,
   "metadata": {},
   "outputs": [
    {
     "name": "stdout",
     "output_type": "stream",
     "text": [
      "     Age  Gender  Annual Income Marital Status  Number of Dependents  \\\n",
      "3   60.0  Female        48371.0       Divorced                   0.0   \n",
      "5   38.0    Male        31769.0        Married                   1.0   \n",
      "6   56.0  Female        26209.0         Single                   1.0   \n",
      "8   40.0    Male        29471.0         Single                   4.0   \n",
      "11  41.0  Female        36427.0         Single                   2.0   \n",
      "\n",
      "   Education Level     Occupation  Health Score  Location    Policy Type  \\\n",
      "3              PhD  Self-Employed     25.346926     Rural  Comprehensive   \n",
      "5       Bachelor's       Employed     14.736611     Rural  Comprehensive   \n",
      "6         Master's       Employed     33.238300     Urban        Premium   \n",
      "8      High School     Unemployed     31.565248     Rural          Basic   \n",
      "11     High School  Self-Employed     13.264415  Suburban        Premium   \n",
      "\n",
      "    Previous Claims  Vehicle Age  Credit Score  Insurance Duration  \\\n",
      "3               1.0           11         330.0                   7   \n",
      "5               1.0            9         521.0                   7   \n",
      "6               0.0           10         424.0                   5   \n",
      "8               1.0           14         796.0                   7   \n",
      "11              0.0           11         444.0                   9   \n",
      "\n",
      "    Premium Amount           Policy Start Date Customer Feedback  \\\n",
      "3            927.0  2023-02-27 15:21:39.078837              Poor   \n",
      "5           4016.0  2020-09-16 15:21:39.078837              Poor   \n",
      "6            828.0  2021-03-29 15:21:39.078837           Average   \n",
      "8            975.0  2023-05-03 15:21:39.078837              Poor   \n",
      "11           207.0  2022-02-14 15:21:39.078837              Good   \n",
      "\n",
      "   Smoking Status Exercise Frequency Property Type  \n",
      "3              No             Rarely         Condo  \n",
      "5             Yes              Daily         House  \n",
      "6             Yes            Monthly         Condo  \n",
      "8              No             Rarely         House  \n",
      "11            Yes             Rarely         House  \n"
     ]
    }
   ],
   "source": [
    "# Drop missing values\n",
    "new_data = data.dropna()\n",
    "print(new_data.head())"
   ]
  },
  {
   "cell_type": "markdown",
   "metadata": {},
   "source": [
    "# Data Transform"
   ]
  },
  {
   "cell_type": "code",
   "execution_count": 103,
   "metadata": {},
   "outputs": [
    {
     "name": "stdout",
     "output_type": "stream",
     "text": [
      "                Age  Annual Income  Number of Dependents  Health Score  \\\n",
      "count  92985.000000   92985.000000          92985.000000  92985.000000   \n",
      "mean      41.014121   42098.392095              2.000635     28.584177   \n",
      "std       13.552250   35484.380179              1.412383     16.011769   \n",
      "min       18.000000       0.000000              0.000000      0.116550   \n",
      "25%       29.000000   13614.000000              1.000000     16.082971   \n",
      "50%       41.000000   32138.000000              2.000000     26.448279   \n",
      "75%       53.000000   62119.000000              3.000000     39.021673   \n",
      "max       64.000000  149996.000000              4.000000     93.876090   \n",
      "\n",
      "       Previous Claims   Vehicle Age  Credit Score  Insurance Duration  \\\n",
      "count     92985.000000  92985.000000  92985.000000        92985.000000   \n",
      "mean          0.997720      9.488434    574.973544            5.013206   \n",
      "std           1.000675      5.763703    158.820093            2.580619   \n",
      "min           0.000000      0.000000    300.000000            1.000000   \n",
      "25%           0.000000      4.000000    438.000000            3.000000   \n",
      "50%           1.000000      9.000000    575.000000            5.000000   \n",
      "75%           2.000000     14.000000    713.000000            7.000000   \n",
      "max           9.000000     19.000000    849.000000            9.000000   \n",
      "\n",
      "       Premium Amount  \n",
      "count    92985.000000  \n",
      "mean       969.799226  \n",
      "std        912.589025  \n",
      "min          0.000000  \n",
      "25%        288.000000  \n",
      "50%        691.000000  \n",
      "75%       1371.000000  \n",
      "max       4999.000000  \n"
     ]
    }
   ],
   "source": [
    "print(new_data.describe())"
   ]
  },
  {
   "cell_type": "markdown",
   "metadata": {},
   "source": [
    "## Gender\n",
    "    Male - 0\n",
    "    Female - 1\n",
    "\n",
    "## Marital Status\n",
    "    Single - 0\n",
    "    Married - 1\n",
    "    Divorced - 2\n",
    "\n",
    "## Education Level \n",
    "    Master's - 0\n",
    "    Bachelor's - 1\n",
    "    PhD - 2\n",
    "    High Schoold - 3\n",
    "\n",
    "## Occupation\n",
    "    Self Employed - 0\n",
    "    Employed - 1\n",
    "    Unemployed - 2\n",
    "\n",
    "## Policy Type\n",
    "    Comprehensive - 0\n",
    "    Premium - 1\n",
    "    Basic - 2\n",
    "\n",
    "## Location \n",
    "    Urban - 0\n",
    "    Suburban - 1\n",
    "    Rural - 2\n",
    "\n",
    "## Property Type\n",
    "    Apartment - 0\n",
    "    House - 1\n",
    "    Condo - 2\n",
    "\n",
    "## Customer Feedback\n",
    "    Poor - 0\n",
    "    Average - 1\n",
    "    Good - 2\n",
    "\n",
    "## Exercise Frequency\n",
    "    Daily - 0\n",
    "    Weekly - 1\n",
    "    Monthly - 2\n",
    "    Rarely - 3\n",
    "\n",
    "## Smoking Status\n",
    "    Yes - 1\n",
    "    No - 0\n",
    "\n"
   ]
  },
  {
   "cell_type": "code",
   "execution_count": 104,
   "metadata": {},
   "outputs": [
    {
     "name": "stderr",
     "output_type": "stream",
     "text": [
      "C:\\Users\\Guima\\AppData\\Local\\Temp\\ipykernel_2440\\569567850.py:2: SettingWithCopyWarning: \n",
      "A value is trying to be set on a copy of a slice from a DataFrame.\n",
      "Try using .loc[row_indexer,col_indexer] = value instead\n",
      "\n",
      "See the caveats in the documentation: https://pandas.pydata.org/pandas-docs/stable/user_guide/indexing.html#returning-a-view-versus-a-copy\n",
      "  new_data['Gender'] = new_data['Gender'].map({'Female': 1, 'Male': 0})\n",
      "C:\\Users\\Guima\\AppData\\Local\\Temp\\ipykernel_2440\\569567850.py:3: SettingWithCopyWarning: \n",
      "A value is trying to be set on a copy of a slice from a DataFrame.\n",
      "Try using .loc[row_indexer,col_indexer] = value instead\n",
      "\n",
      "See the caveats in the documentation: https://pandas.pydata.org/pandas-docs/stable/user_guide/indexing.html#returning-a-view-versus-a-copy\n",
      "  new_data['Marital Status'] = new_data['Marital Status'].map({'Single': 0, 'Married': 1, 'Divorced': 2})\n",
      "C:\\Users\\Guima\\AppData\\Local\\Temp\\ipykernel_2440\\569567850.py:4: SettingWithCopyWarning: \n",
      "A value is trying to be set on a copy of a slice from a DataFrame.\n",
      "Try using .loc[row_indexer,col_indexer] = value instead\n",
      "\n",
      "See the caveats in the documentation: https://pandas.pydata.org/pandas-docs/stable/user_guide/indexing.html#returning-a-view-versus-a-copy\n",
      "  new_data['Education Level'] = new_data['Education Level'].map({'Master\\'s': 0, 'Bachelor\\'s': 1, 'PhD': 2, 'High School': 3})\n",
      "C:\\Users\\Guima\\AppData\\Local\\Temp\\ipykernel_2440\\569567850.py:5: SettingWithCopyWarning: \n",
      "A value is trying to be set on a copy of a slice from a DataFrame.\n",
      "Try using .loc[row_indexer,col_indexer] = value instead\n",
      "\n",
      "See the caveats in the documentation: https://pandas.pydata.org/pandas-docs/stable/user_guide/indexing.html#returning-a-view-versus-a-copy\n",
      "  new_data['Occupation'] = new_data['Occupation'].map({'Self-Employed': 0, 'Employed': 1, 'Unemployed': 2})\n",
      "C:\\Users\\Guima\\AppData\\Local\\Temp\\ipykernel_2440\\569567850.py:6: SettingWithCopyWarning: \n",
      "A value is trying to be set on a copy of a slice from a DataFrame.\n",
      "Try using .loc[row_indexer,col_indexer] = value instead\n",
      "\n",
      "See the caveats in the documentation: https://pandas.pydata.org/pandas-docs/stable/user_guide/indexing.html#returning-a-view-versus-a-copy\n",
      "  new_data['Policy Type'] = new_data['Policy Type'].map({'Comprehensive': 0, 'Premium': 1, 'Basic': 2})\n",
      "C:\\Users\\Guima\\AppData\\Local\\Temp\\ipykernel_2440\\569567850.py:7: SettingWithCopyWarning: \n",
      "A value is trying to be set on a copy of a slice from a DataFrame.\n",
      "Try using .loc[row_indexer,col_indexer] = value instead\n",
      "\n",
      "See the caveats in the documentation: https://pandas.pydata.org/pandas-docs/stable/user_guide/indexing.html#returning-a-view-versus-a-copy\n",
      "  new_data['Location'] = new_data['Location'].map({'Urban': 0, 'Suburban': 1, 'Rural': 2})\n",
      "C:\\Users\\Guima\\AppData\\Local\\Temp\\ipykernel_2440\\569567850.py:8: SettingWithCopyWarning: \n",
      "A value is trying to be set on a copy of a slice from a DataFrame.\n",
      "Try using .loc[row_indexer,col_indexer] = value instead\n",
      "\n",
      "See the caveats in the documentation: https://pandas.pydata.org/pandas-docs/stable/user_guide/indexing.html#returning-a-view-versus-a-copy\n",
      "  new_data['Property Type'] = new_data['Property Type'].map({'Apartment': 0, 'House': 1, 'Condo': 2})\n",
      "C:\\Users\\Guima\\AppData\\Local\\Temp\\ipykernel_2440\\569567850.py:9: SettingWithCopyWarning: \n",
      "A value is trying to be set on a copy of a slice from a DataFrame.\n",
      "Try using .loc[row_indexer,col_indexer] = value instead\n",
      "\n",
      "See the caveats in the documentation: https://pandas.pydata.org/pandas-docs/stable/user_guide/indexing.html#returning-a-view-versus-a-copy\n",
      "  new_data['Customer Feedback'] = new_data['Customer Feedback'].map({'Poor': 0, 'Average': 1, 'Good': 2})\n",
      "C:\\Users\\Guima\\AppData\\Local\\Temp\\ipykernel_2440\\569567850.py:10: SettingWithCopyWarning: \n",
      "A value is trying to be set on a copy of a slice from a DataFrame.\n",
      "Try using .loc[row_indexer,col_indexer] = value instead\n",
      "\n",
      "See the caveats in the documentation: https://pandas.pydata.org/pandas-docs/stable/user_guide/indexing.html#returning-a-view-versus-a-copy\n",
      "  new_data['Exercise Frequency'] = new_data['Exercise Frequency'].map({'Daily': 0, 'Weekly': 1, 'Monthly': 2, 'Rarely': 3})\n",
      "C:\\Users\\Guima\\AppData\\Local\\Temp\\ipykernel_2440\\569567850.py:11: SettingWithCopyWarning: \n",
      "A value is trying to be set on a copy of a slice from a DataFrame.\n",
      "Try using .loc[row_indexer,col_indexer] = value instead\n",
      "\n",
      "See the caveats in the documentation: https://pandas.pydata.org/pandas-docs/stable/user_guide/indexing.html#returning-a-view-versus-a-copy\n",
      "  new_data['Smoking Status'] = new_data['Smoking Status'].map({'Yes': 1, 'No': 0})\n"
     ]
    }
   ],
   "source": [
    "# Convert categorical features to numerical\n",
    "new_data['Gender'] = new_data['Gender'].map({'Female': 1, 'Male': 0})\n",
    "new_data['Marital Status'] = new_data['Marital Status'].map({'Single': 0, 'Married': 1, 'Divorced': 2})\n",
    "new_data['Education Level'] = new_data['Education Level'].map({'Master\\'s': 0, 'Bachelor\\'s': 1, 'PhD': 2, 'High School': 3})\n",
    "new_data['Occupation'] = new_data['Occupation'].map({'Self-Employed': 0, 'Employed': 1, 'Unemployed': 2})\n",
    "new_data['Policy Type'] = new_data['Policy Type'].map({'Comprehensive': 0, 'Premium': 1, 'Basic': 2})\n",
    "new_data['Location'] = new_data['Location'].map({'Urban': 0, 'Suburban': 1, 'Rural': 2})\n",
    "new_data['Property Type'] = new_data['Property Type'].map({'Apartment': 0, 'House': 1, 'Condo': 2})\n",
    "new_data['Customer Feedback'] = new_data['Customer Feedback'].map({'Poor': 0, 'Average': 1, 'Good': 2})\n",
    "new_data['Exercise Frequency'] = new_data['Exercise Frequency'].map({'Daily': 0, 'Weekly': 1, 'Monthly': 2, 'Rarely': 3})\n",
    "new_data['Smoking Status'] = new_data['Smoking Status'].map({'Yes': 1, 'No': 0})"
   ]
  },
  {
   "cell_type": "code",
   "execution_count": 105,
   "metadata": {},
   "outputs": [
    {
     "name": "stdout",
     "output_type": "stream",
     "text": [
      "<class 'pandas.core.frame.DataFrame'>\n",
      "Index: 92985 entries, 3 to 278854\n",
      "Data columns (total 20 columns):\n",
      " #   Column                Non-Null Count  Dtype  \n",
      "---  ------                --------------  -----  \n",
      " 0   Age                   92985 non-null  int64  \n",
      " 1   Gender                92985 non-null  int64  \n",
      " 2   Annual Income         92985 non-null  float64\n",
      " 3   Marital Status        92985 non-null  int64  \n",
      " 4   Number of Dependents  92985 non-null  int64  \n",
      " 5   Education Level       92985 non-null  int64  \n",
      " 6   Occupation            92985 non-null  int64  \n",
      " 7   Health Score          92985 non-null  float64\n",
      " 8   Location              92985 non-null  int64  \n",
      " 9   Policy Type           92985 non-null  int64  \n",
      " 10  Previous Claims       92985 non-null  int64  \n",
      " 11  Vehicle Age           92985 non-null  int64  \n",
      " 12  Credit Score          92985 non-null  int64  \n",
      " 13  Insurance Duration    92985 non-null  int64  \n",
      " 14  Premium Amount        92985 non-null  int64  \n",
      " 15  Policy Start Date     92985 non-null  object \n",
      " 16  Customer Feedback     92985 non-null  int64  \n",
      " 17  Smoking Status        92985 non-null  int64  \n",
      " 18  Exercise Frequency    92985 non-null  int64  \n",
      " 19  Property Type         92985 non-null  int64  \n",
      "dtypes: float64(2), int64(17), object(1)\n",
      "memory usage: 14.9+ MB\n",
      "None\n"
     ]
    },
    {
     "name": "stderr",
     "output_type": "stream",
     "text": [
      "C:\\Users\\Guima\\AppData\\Local\\Temp\\ipykernel_2440\\1914245264.py:5: SettingWithCopyWarning: \n",
      "A value is trying to be set on a copy of a slice from a DataFrame.\n",
      "Try using .loc[row_indexer,col_indexer] = value instead\n",
      "\n",
      "See the caveats in the documentation: https://pandas.pydata.org/pandas-docs/stable/user_guide/indexing.html#returning-a-view-versus-a-copy\n",
      "  new_data['Age'] = new_data['Age'].astype(int)\n",
      "C:\\Users\\Guima\\AppData\\Local\\Temp\\ipykernel_2440\\1914245264.py:8: SettingWithCopyWarning: \n",
      "A value is trying to be set on a copy of a slice from a DataFrame.\n",
      "Try using .loc[row_indexer,col_indexer] = value instead\n",
      "\n",
      "See the caveats in the documentation: https://pandas.pydata.org/pandas-docs/stable/user_guide/indexing.html#returning-a-view-versus-a-copy\n",
      "  new_data['Number of Dependents'] = new_data['Number of Dependents'].astype(int)\n",
      "C:\\Users\\Guima\\AppData\\Local\\Temp\\ipykernel_2440\\1914245264.py:9: SettingWithCopyWarning: \n",
      "A value is trying to be set on a copy of a slice from a DataFrame.\n",
      "Try using .loc[row_indexer,col_indexer] = value instead\n",
      "\n",
      "See the caveats in the documentation: https://pandas.pydata.org/pandas-docs/stable/user_guide/indexing.html#returning-a-view-versus-a-copy\n",
      "  new_data['Previous Claims'] = new_data['Previous Claims'].astype(int)\n",
      "C:\\Users\\Guima\\AppData\\Local\\Temp\\ipykernel_2440\\1914245264.py:10: SettingWithCopyWarning: \n",
      "A value is trying to be set on a copy of a slice from a DataFrame.\n",
      "Try using .loc[row_indexer,col_indexer] = value instead\n",
      "\n",
      "See the caveats in the documentation: https://pandas.pydata.org/pandas-docs/stable/user_guide/indexing.html#returning-a-view-versus-a-copy\n",
      "  new_data['Credit Score'] = new_data['Credit Score'].astype(int)\n",
      "C:\\Users\\Guima\\AppData\\Local\\Temp\\ipykernel_2440\\1914245264.py:11: SettingWithCopyWarning: \n",
      "A value is trying to be set on a copy of a slice from a DataFrame.\n",
      "Try using .loc[row_indexer,col_indexer] = value instead\n",
      "\n",
      "See the caveats in the documentation: https://pandas.pydata.org/pandas-docs/stable/user_guide/indexing.html#returning-a-view-versus-a-copy\n",
      "  new_data['Premium Amount'] = new_data['Premium Amount'].astype(int)\n",
      "C:\\Users\\Guima\\AppData\\Local\\Temp\\ipykernel_2440\\1914245264.py:12: SettingWithCopyWarning: \n",
      "A value is trying to be set on a copy of a slice from a DataFrame.\n",
      "Try using .loc[row_indexer,col_indexer] = value instead\n",
      "\n",
      "See the caveats in the documentation: https://pandas.pydata.org/pandas-docs/stable/user_guide/indexing.html#returning-a-view-versus-a-copy\n",
      "  new_data['Smoking Status'] = new_data['Smoking Status'].astype(int)\n",
      "C:\\Users\\Guima\\AppData\\Local\\Temp\\ipykernel_2440\\1914245264.py:13: SettingWithCopyWarning: \n",
      "A value is trying to be set on a copy of a slice from a DataFrame.\n",
      "Try using .loc[row_indexer,col_indexer] = value instead\n",
      "\n",
      "See the caveats in the documentation: https://pandas.pydata.org/pandas-docs/stable/user_guide/indexing.html#returning-a-view-versus-a-copy\n",
      "  new_data['Property Type'] = new_data['Property Type'].astype(int)\n"
     ]
    }
   ],
   "source": [
    "# Change data types\n",
    "# new_data.loc[:, 'Age'] = new_data['Age'].astype(int)\n",
    "\n",
    "# Age to int\n",
    "new_data['Age'] = new_data['Age'].astype(int)\n",
    "\n",
    "# new_data.loc[:, 'Gender'] = new_data['Gender'].astype(bool)\n",
    "new_data['Number of Dependents'] = new_data['Number of Dependents'].astype(int)\n",
    "new_data['Previous Claims'] = new_data['Previous Claims'].astype(int)\n",
    "new_data['Credit Score'] = new_data['Credit Score'].astype(int)\n",
    "new_data['Premium Amount'] = new_data['Premium Amount'].astype(int)\n",
    "new_data['Smoking Status'] = new_data['Smoking Status'].astype(int)\n",
    "new_data['Property Type'] = new_data['Property Type'].astype(int)\n",
    "\n",
    "# Display the first 5 rows of the new data\n",
    "# print(new_data.head())\n",
    "print(new_data.info())\n"
   ]
  },
  {
   "cell_type": "markdown",
   "metadata": {},
   "source": [
    "SAVE DATA"
   ]
  },
  {
   "cell_type": "code",
   "execution_count": 106,
   "metadata": {},
   "outputs": [],
   "source": [
    "# Save the cleaned data\n",
    "new_data.to_csv('cleaned_insurance_data.csv', index=False)"
   ]
  }
 ],
 "metadata": {
  "kernelspec": {
   "display_name": "Python 3",
   "language": "python",
   "name": "python3"
  },
  "language_info": {
   "codemirror_mode": {
    "name": "ipython",
    "version": 3
   },
   "file_extension": ".py",
   "mimetype": "text/x-python",
   "name": "python",
   "nbconvert_exporter": "python",
   "pygments_lexer": "ipython3",
   "version": "3.12.5"
  }
 },
 "nbformat": 4,
 "nbformat_minor": 2
}
