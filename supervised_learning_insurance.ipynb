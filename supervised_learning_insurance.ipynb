{
 "cells": [
  {
   "cell_type": "markdown",
   "metadata": {},
   "source": [
    "Dataset of Insurance"
   ]
  },
  {
   "cell_type": "markdown",
   "metadata": {},
   "source": [
    "START OF DATA TRANSFORM"
   ]
  },
  {
   "cell_type": "code",
   "execution_count": null,
   "metadata": {},
   "outputs": [],
   "source": [
    "import pandas as pd\n",
    "import numpy as np\n",
    "import matplotlib.pyplot as plt\n",
    "import seaborn as sns\n",
    "from sklearn.preprocessing import StandardScaler\n",
    "from sklearn.model_selection import train_test_split\n",
    "from sklearn.linear_model import LogisticRegression\n",
    "from sklearn.metrics import classification_report\n",
    "from sklearn.metrics import confusion_matrix\n",
    "from sklearn.metrics import roc_auc_score\n"
   ]
  },
  {
   "cell_type": "code",
   "execution_count": null,
   "metadata": {},
   "outputs": [],
   "source": [
    "# Load the data\n",
    "data = pd.read_csv('insurance_premium_dataset.csv')\n",
    "\n",
    "# Display the first 5 rows of the data\n",
    "print(data.head())"
   ]
  },
  {
   "cell_type": "code",
   "execution_count": null,
   "metadata": {},
   "outputs": [],
   "source": [
    "# Display the data info\n",
    "print(data.info())"
   ]
  },
  {
   "cell_type": "code",
   "execution_count": 41,
   "metadata": {},
   "outputs": [
    {
     "name": "stdout",
     "output_type": "stream",
     "text": [
      "['Married' 'Single' 'Divorced' nan]\n"
     ]
    }
   ],
   "source": [
    "# Display unique values of marital_status\n",
    "print(data['Marital Status'].unique())"
   ]
  },
  {
   "cell_type": "code",
   "execution_count": 42,
   "metadata": {},
   "outputs": [
    {
     "name": "stdout",
     "output_type": "stream",
     "text": [
      "[\"Master's\" \"Bachelor's\" 'PhD' 'High School']\n"
     ]
    }
   ],
   "source": [
    "# Display Education level unique values\n",
    "print(data['Education Level'].unique())"
   ]
  },
  {
   "cell_type": "code",
   "execution_count": 43,
   "metadata": {},
   "outputs": [
    {
     "name": "stdout",
     "output_type": "stream",
     "text": [
      "[nan 'Self-Employed' 'Employed' 'Unemployed']\n"
     ]
    }
   ],
   "source": [
    "# Display the unique values of the occupation\n",
    "print(data['Occupation'].unique())"
   ]
  },
  {
   "cell_type": "code",
   "execution_count": null,
   "metadata": {},
   "outputs": [],
   "source": [
    "# Display the unique values of the Health Score\n",
    "print(data['Health Score'].unique())"
   ]
  },
  {
   "cell_type": "code",
   "execution_count": 44,
   "metadata": {},
   "outputs": [
    {
     "name": "stdout",
     "output_type": "stream",
     "text": [
      "['Comprehensive' 'Premium' 'Basic']\n"
     ]
    }
   ],
   "source": [
    "# Display the unique values of the Policy Type\n",
    "print(data['Policy Type'].unique())"
   ]
  },
  {
   "cell_type": "code",
   "execution_count": 45,
   "metadata": {},
   "outputs": [
    {
     "name": "stdout",
     "output_type": "stream",
     "text": [
      "['Urban' 'Suburban' 'Rural']\n"
     ]
    }
   ],
   "source": [
    "# Display the unique values of the Location\n",
    "print(data['Location'].unique())"
   ]
  },
  {
   "cell_type": "code",
   "execution_count": 47,
   "metadata": {},
   "outputs": [
    {
     "name": "stdout",
     "output_type": "stream",
     "text": [
      "[nan  2.  1.  0.  3.  4.  5.  6.  7.  9.  8.]\n"
     ]
    }
   ],
   "source": [
    "# Display the unique values of the Previous Claims\n",
    "print(data['Previous Claims'].unique())"
   ]
  },
  {
   "cell_type": "code",
   "execution_count": 51,
   "metadata": {},
   "outputs": [
    {
     "name": "stdout",
     "output_type": "stream",
     "text": [
      "['Poor' 'Good' 'Average' nan]\n"
     ]
    }
   ],
   "source": [
    "# Display the unique values of the Premium Amount\n",
    "print(data['Customer Feedback'].unique())"
   ]
  },
  {
   "cell_type": "code",
   "execution_count": 48,
   "metadata": {},
   "outputs": [
    {
     "name": "stdout",
     "output_type": "stream",
     "text": [
      "['Yes' 'No']\n"
     ]
    }
   ],
   "source": [
    "# Display the unique values of the Smoking Status\n",
    "print(data['Smoking Status'].unique())"
   ]
  },
  {
   "cell_type": "code",
   "execution_count": 53,
   "metadata": {},
   "outputs": [
    {
     "name": "stdout",
     "output_type": "stream",
     "text": [
      "['Daily' 'Monthly' 'Rarely' 'Weekly']\n"
     ]
    }
   ],
   "source": [
    "# Display the unique values of the Exercise Frequency\n",
    "print(data['Exercise Frequency'].unique())"
   ]
  },
  {
   "cell_type": "code",
   "execution_count": 49,
   "metadata": {},
   "outputs": [
    {
     "name": "stdout",
     "output_type": "stream",
     "text": [
      "['Condo' 'House' 'Apartment']\n"
     ]
    }
   ],
   "source": [
    "# Display the unique values of the Property Type\n",
    "print(data['Property Type'].unique())"
   ]
  },
  {
   "cell_type": "markdown",
   "metadata": {},
   "source": [
    "Age to Int - v\n",
    "Convert gender to binary - v\n",
    "Convert marital status to 0, 1, 2 - v\n",
    "Convert number of dependents to int - v\n",
    "Convert Education level to 0, 1, 2, 3\n",
    "Convert Occupation to 0, 1, 2\n",
    "Convert Policy Type to 0, 1, 2\n",
    "Convert Location to 0, 1, 2\n",
    "Convert Previous Claims to int\n",
    "Credit Score to int\n",
    "Premium Amount to int\n",
    "Customer Feedback to int\n",
    "Smoking Status to binary\n",
    "Exercise Frequency to int\n",
    "Property Type to int"
   ]
  },
  {
   "cell_type": "code",
   "execution_count": null,
   "metadata": {},
   "outputs": [],
   "source": [
    "# Check for missing values\n",
    "print(data.isnull().sum())"
   ]
  },
  {
   "cell_type": "code",
   "execution_count": null,
   "metadata": {},
   "outputs": [],
   "source": [
    "# Drop missing values\n",
    "new_data = data.dropna()\n",
    "print(new_data.head())"
   ]
  },
  {
   "cell_type": "code",
   "execution_count": null,
   "metadata": {},
   "outputs": [],
   "source": [
    "print(new_data.describe())"
   ]
  },
  {
   "cell_type": "code",
   "execution_count": 54,
   "metadata": {},
   "outputs": [
    {
     "name": "stderr",
     "output_type": "stream",
     "text": [
      "C:\\Users\\Guima\\AppData\\Local\\Temp\\ipykernel_10956\\41365884.py:2: SettingWithCopyWarning: \n",
      "A value is trying to be set on a copy of a slice from a DataFrame.\n",
      "Try using .loc[row_indexer,col_indexer] = value instead\n",
      "\n",
      "See the caveats in the documentation: https://pandas.pydata.org/pandas-docs/stable/user_guide/indexing.html#returning-a-view-versus-a-copy\n",
      "  new_data['Age'] = new_data['Age'].astype(int)\n",
      "C:\\Users\\Guima\\AppData\\Local\\Temp\\ipykernel_10956\\41365884.py:3: SettingWithCopyWarning: \n",
      "A value is trying to be set on a copy of a slice from a DataFrame.\n",
      "Try using .loc[row_indexer,col_indexer] = value instead\n",
      "\n",
      "See the caveats in the documentation: https://pandas.pydata.org/pandas-docs/stable/user_guide/indexing.html#returning-a-view-versus-a-copy\n",
      "  new_data['Gender'] = new_data['Gender'].astype(bool)\n",
      "C:\\Users\\Guima\\AppData\\Local\\Temp\\ipykernel_10956\\41365884.py:4: SettingWithCopyWarning: \n",
      "A value is trying to be set on a copy of a slice from a DataFrame.\n",
      "Try using .loc[row_indexer,col_indexer] = value instead\n",
      "\n",
      "See the caveats in the documentation: https://pandas.pydata.org/pandas-docs/stable/user_guide/indexing.html#returning-a-view-versus-a-copy\n",
      "  new_data['Number of Dependents'] = new_data['Number of Dependents'].astype(int)\n",
      "C:\\Users\\Guima\\AppData\\Local\\Temp\\ipykernel_10956\\41365884.py:5: SettingWithCopyWarning: \n",
      "A value is trying to be set on a copy of a slice from a DataFrame.\n",
      "Try using .loc[row_indexer,col_indexer] = value instead\n",
      "\n",
      "See the caveats in the documentation: https://pandas.pydata.org/pandas-docs/stable/user_guide/indexing.html#returning-a-view-versus-a-copy\n",
      "  new_data['Previous Claims'] = new_data['Previous Claims'].astype(int)\n",
      "C:\\Users\\Guima\\AppData\\Local\\Temp\\ipykernel_10956\\41365884.py:6: SettingWithCopyWarning: \n",
      "A value is trying to be set on a copy of a slice from a DataFrame.\n",
      "Try using .loc[row_indexer,col_indexer] = value instead\n",
      "\n",
      "See the caveats in the documentation: https://pandas.pydata.org/pandas-docs/stable/user_guide/indexing.html#returning-a-view-versus-a-copy\n",
      "  new_data['Credit Score'] = new_data['Credit Score'].astype(int)\n",
      "C:\\Users\\Guima\\AppData\\Local\\Temp\\ipykernel_10956\\41365884.py:7: SettingWithCopyWarning: \n",
      "A value is trying to be set on a copy of a slice from a DataFrame.\n",
      "Try using .loc[row_indexer,col_indexer] = value instead\n",
      "\n",
      "See the caveats in the documentation: https://pandas.pydata.org/pandas-docs/stable/user_guide/indexing.html#returning-a-view-versus-a-copy\n",
      "  new_data['Premium Amount'] = new_data['Premium Amount'].astype(int)\n",
      "C:\\Users\\Guima\\AppData\\Local\\Temp\\ipykernel_10956\\41365884.py:8: SettingWithCopyWarning: \n",
      "A value is trying to be set on a copy of a slice from a DataFrame.\n",
      "Try using .loc[row_indexer,col_indexer] = value instead\n",
      "\n",
      "See the caveats in the documentation: https://pandas.pydata.org/pandas-docs/stable/user_guide/indexing.html#returning-a-view-versus-a-copy\n",
      "  new_data['Smoking Status'] = new_data['Smoking Status'].astype(bool)\n",
      "C:\\Users\\Guima\\AppData\\Local\\Temp\\ipykernel_10956\\41365884.py:11: SettingWithCopyWarning: \n",
      "A value is trying to be set on a copy of a slice from a DataFrame.\n",
      "Try using .loc[row_indexer,col_indexer] = value instead\n",
      "\n",
      "See the caveats in the documentation: https://pandas.pydata.org/pandas-docs/stable/user_guide/indexing.html#returning-a-view-versus-a-copy\n",
      "  new_data['Marital Status'] = new_data['Marital Status'].replace('Divorced', 2)\n",
      "C:\\Users\\Guima\\AppData\\Local\\Temp\\ipykernel_10956\\41365884.py:12: SettingWithCopyWarning: \n",
      "A value is trying to be set on a copy of a slice from a DataFrame.\n",
      "Try using .loc[row_indexer,col_indexer] = value instead\n",
      "\n",
      "See the caveats in the documentation: https://pandas.pydata.org/pandas-docs/stable/user_guide/indexing.html#returning-a-view-versus-a-copy\n",
      "  new_data['Marital Status'] = new_data['Marital Status'].replace('Married', 1)\n",
      "C:\\Users\\Guima\\AppData\\Local\\Temp\\ipykernel_10956\\41365884.py:13: SettingWithCopyWarning: \n",
      "A value is trying to be set on a copy of a slice from a DataFrame.\n",
      "Try using .loc[row_indexer,col_indexer] = value instead\n",
      "\n",
      "See the caveats in the documentation: https://pandas.pydata.org/pandas-docs/stable/user_guide/indexing.html#returning-a-view-versus-a-copy\n",
      "  new_data['Marital Status'] = new_data['Marital Status'].replace('Single', 0)\n",
      "C:\\Users\\Guima\\AppData\\Local\\Temp\\ipykernel_10956\\41365884.py:15: SettingWithCopyWarning: \n",
      "A value is trying to be set on a copy of a slice from a DataFrame.\n",
      "Try using .loc[row_indexer,col_indexer] = value instead\n",
      "\n",
      "See the caveats in the documentation: https://pandas.pydata.org/pandas-docs/stable/user_guide/indexing.html#returning-a-view-versus-a-copy\n",
      "  new_data['Education Level'] = new_data['Education Level'].replace('Master\\'s', 0)\n",
      "C:\\Users\\Guima\\AppData\\Local\\Temp\\ipykernel_10956\\41365884.py:16: SettingWithCopyWarning: \n",
      "A value is trying to be set on a copy of a slice from a DataFrame.\n",
      "Try using .loc[row_indexer,col_indexer] = value instead\n",
      "\n",
      "See the caveats in the documentation: https://pandas.pydata.org/pandas-docs/stable/user_guide/indexing.html#returning-a-view-versus-a-copy\n",
      "  new_data['Education Level'] = new_data['Education Level'].replace('Bachelor\\'s', 1)\n",
      "C:\\Users\\Guima\\AppData\\Local\\Temp\\ipykernel_10956\\41365884.py:17: SettingWithCopyWarning: \n",
      "A value is trying to be set on a copy of a slice from a DataFrame.\n",
      "Try using .loc[row_indexer,col_indexer] = value instead\n",
      "\n",
      "See the caveats in the documentation: https://pandas.pydata.org/pandas-docs/stable/user_guide/indexing.html#returning-a-view-versus-a-copy\n",
      "  new_data['Education Level'] = new_data['Education Level'].replace('PhD', 2)\n",
      "C:\\Users\\Guima\\AppData\\Local\\Temp\\ipykernel_10956\\41365884.py:18: SettingWithCopyWarning: \n",
      "A value is trying to be set on a copy of a slice from a DataFrame.\n",
      "Try using .loc[row_indexer,col_indexer] = value instead\n",
      "\n",
      "See the caveats in the documentation: https://pandas.pydata.org/pandas-docs/stable/user_guide/indexing.html#returning-a-view-versus-a-copy\n",
      "  new_data['Education Level'] = new_data['Education Level'].replace('High School', 3)\n",
      "C:\\Users\\Guima\\AppData\\Local\\Temp\\ipykernel_10956\\41365884.py:20: SettingWithCopyWarning: \n",
      "A value is trying to be set on a copy of a slice from a DataFrame.\n",
      "Try using .loc[row_indexer,col_indexer] = value instead\n",
      "\n",
      "See the caveats in the documentation: https://pandas.pydata.org/pandas-docs/stable/user_guide/indexing.html#returning-a-view-versus-a-copy\n",
      "  new_data['Occupation'] = new_data['Occupation'].replace('Self-Employed', 0)\n",
      "C:\\Users\\Guima\\AppData\\Local\\Temp\\ipykernel_10956\\41365884.py:21: SettingWithCopyWarning: \n",
      "A value is trying to be set on a copy of a slice from a DataFrame.\n",
      "Try using .loc[row_indexer,col_indexer] = value instead\n",
      "\n",
      "See the caveats in the documentation: https://pandas.pydata.org/pandas-docs/stable/user_guide/indexing.html#returning-a-view-versus-a-copy\n",
      "  new_data['Occupation'] = new_data['Occupation'].replace('Employed', 1)\n",
      "C:\\Users\\Guima\\AppData\\Local\\Temp\\ipykernel_10956\\41365884.py:22: SettingWithCopyWarning: \n",
      "A value is trying to be set on a copy of a slice from a DataFrame.\n",
      "Try using .loc[row_indexer,col_indexer] = value instead\n",
      "\n",
      "See the caveats in the documentation: https://pandas.pydata.org/pandas-docs/stable/user_guide/indexing.html#returning-a-view-versus-a-copy\n",
      "  new_data['Occupation'] = new_data['Occupation'].replace('Unemployed', 2)\n",
      "C:\\Users\\Guima\\AppData\\Local\\Temp\\ipykernel_10956\\41365884.py:24: SettingWithCopyWarning: \n",
      "A value is trying to be set on a copy of a slice from a DataFrame.\n",
      "Try using .loc[row_indexer,col_indexer] = value instead\n",
      "\n",
      "See the caveats in the documentation: https://pandas.pydata.org/pandas-docs/stable/user_guide/indexing.html#returning-a-view-versus-a-copy\n",
      "  new_data['Policy Type'] = new_data['Policy Type'].replace('Comprehensive', 0)\n",
      "C:\\Users\\Guima\\AppData\\Local\\Temp\\ipykernel_10956\\41365884.py:25: SettingWithCopyWarning: \n",
      "A value is trying to be set on a copy of a slice from a DataFrame.\n",
      "Try using .loc[row_indexer,col_indexer] = value instead\n",
      "\n",
      "See the caveats in the documentation: https://pandas.pydata.org/pandas-docs/stable/user_guide/indexing.html#returning-a-view-versus-a-copy\n",
      "  new_data['Policy Type'] = new_data['Policy Type'].replace('Premium', 1)\n",
      "C:\\Users\\Guima\\AppData\\Local\\Temp\\ipykernel_10956\\41365884.py:26: SettingWithCopyWarning: \n",
      "A value is trying to be set on a copy of a slice from a DataFrame.\n",
      "Try using .loc[row_indexer,col_indexer] = value instead\n",
      "\n",
      "See the caveats in the documentation: https://pandas.pydata.org/pandas-docs/stable/user_guide/indexing.html#returning-a-view-versus-a-copy\n",
      "  new_data['Policy Type'] = new_data['Policy Type'].replace('Basic', 2)\n",
      "C:\\Users\\Guima\\AppData\\Local\\Temp\\ipykernel_10956\\41365884.py:28: SettingWithCopyWarning: \n",
      "A value is trying to be set on a copy of a slice from a DataFrame.\n",
      "Try using .loc[row_indexer,col_indexer] = value instead\n",
      "\n",
      "See the caveats in the documentation: https://pandas.pydata.org/pandas-docs/stable/user_guide/indexing.html#returning-a-view-versus-a-copy\n",
      "  new_data['Location'] = new_data['Location'].replace('Urban', 0)\n",
      "C:\\Users\\Guima\\AppData\\Local\\Temp\\ipykernel_10956\\41365884.py:29: SettingWithCopyWarning: \n",
      "A value is trying to be set on a copy of a slice from a DataFrame.\n",
      "Try using .loc[row_indexer,col_indexer] = value instead\n",
      "\n",
      "See the caveats in the documentation: https://pandas.pydata.org/pandas-docs/stable/user_guide/indexing.html#returning-a-view-versus-a-copy\n",
      "  new_data['Location'] = new_data['Location'].replace('Suburban', 1)\n",
      "C:\\Users\\Guima\\AppData\\Local\\Temp\\ipykernel_10956\\41365884.py:30: SettingWithCopyWarning: \n",
      "A value is trying to be set on a copy of a slice from a DataFrame.\n",
      "Try using .loc[row_indexer,col_indexer] = value instead\n",
      "\n",
      "See the caveats in the documentation: https://pandas.pydata.org/pandas-docs/stable/user_guide/indexing.html#returning-a-view-versus-a-copy\n",
      "  new_data['Location'] = new_data['Location'].replace('Rural', 2)\n",
      "C:\\Users\\Guima\\AppData\\Local\\Temp\\ipykernel_10956\\41365884.py:32: SettingWithCopyWarning: \n",
      "A value is trying to be set on a copy of a slice from a DataFrame.\n",
      "Try using .loc[row_indexer,col_indexer] = value instead\n",
      "\n",
      "See the caveats in the documentation: https://pandas.pydata.org/pandas-docs/stable/user_guide/indexing.html#returning-a-view-versus-a-copy\n",
      "  new_data['Property Data'] = new_data['Property Type'].replace('Apartment', 0)\n",
      "C:\\Users\\Guima\\AppData\\Local\\Temp\\ipykernel_10956\\41365884.py:33: SettingWithCopyWarning: \n",
      "A value is trying to be set on a copy of a slice from a DataFrame.\n",
      "Try using .loc[row_indexer,col_indexer] = value instead\n",
      "\n",
      "See the caveats in the documentation: https://pandas.pydata.org/pandas-docs/stable/user_guide/indexing.html#returning-a-view-versus-a-copy\n",
      "  new_data['Property Data'] = new_data['Property Type'].replace('House', 1)\n",
      "C:\\Users\\Guima\\AppData\\Local\\Temp\\ipykernel_10956\\41365884.py:34: SettingWithCopyWarning: \n",
      "A value is trying to be set on a copy of a slice from a DataFrame.\n",
      "Try using .loc[row_indexer,col_indexer] = value instead\n",
      "\n",
      "See the caveats in the documentation: https://pandas.pydata.org/pandas-docs/stable/user_guide/indexing.html#returning-a-view-versus-a-copy\n",
      "  new_data['Property Data'] = new_data['Property Type'].replace('Condo', 2)\n",
      "C:\\Users\\Guima\\AppData\\Local\\Temp\\ipykernel_10956\\41365884.py:36: SettingWithCopyWarning: \n",
      "A value is trying to be set on a copy of a slice from a DataFrame.\n",
      "Try using .loc[row_indexer,col_indexer] = value instead\n",
      "\n",
      "See the caveats in the documentation: https://pandas.pydata.org/pandas-docs/stable/user_guide/indexing.html#returning-a-view-versus-a-copy\n",
      "  new_data['Customer Feedback'] = new_data['Customer Feedback'].replace('Poor', 0)\n",
      "C:\\Users\\Guima\\AppData\\Local\\Temp\\ipykernel_10956\\41365884.py:37: SettingWithCopyWarning: \n",
      "A value is trying to be set on a copy of a slice from a DataFrame.\n",
      "Try using .loc[row_indexer,col_indexer] = value instead\n",
      "\n",
      "See the caveats in the documentation: https://pandas.pydata.org/pandas-docs/stable/user_guide/indexing.html#returning-a-view-versus-a-copy\n",
      "  new_data['Customer Feedback'] = new_data['Customer Feedback'].replace('Average', 1)\n",
      "C:\\Users\\Guima\\AppData\\Local\\Temp\\ipykernel_10956\\41365884.py:38: FutureWarning: Downcasting behavior in `replace` is deprecated and will be removed in a future version. To retain the old behavior, explicitly call `result.infer_objects(copy=False)`. To opt-in to the future behavior, set `pd.set_option('future.no_silent_downcasting', True)`\n",
      "  new_data['Customer Feedback'] = new_data['Customer Feedback'].replace('Good', 2)\n",
      "C:\\Users\\Guima\\AppData\\Local\\Temp\\ipykernel_10956\\41365884.py:38: SettingWithCopyWarning: \n",
      "A value is trying to be set on a copy of a slice from a DataFrame.\n",
      "Try using .loc[row_indexer,col_indexer] = value instead\n",
      "\n",
      "See the caveats in the documentation: https://pandas.pydata.org/pandas-docs/stable/user_guide/indexing.html#returning-a-view-versus-a-copy\n",
      "  new_data['Customer Feedback'] = new_data['Customer Feedback'].replace('Good', 2)\n",
      "C:\\Users\\Guima\\AppData\\Local\\Temp\\ipykernel_10956\\41365884.py:40: SettingWithCopyWarning: \n",
      "A value is trying to be set on a copy of a slice from a DataFrame.\n",
      "Try using .loc[row_indexer,col_indexer] = value instead\n",
      "\n",
      "See the caveats in the documentation: https://pandas.pydata.org/pandas-docs/stable/user_guide/indexing.html#returning-a-view-versus-a-copy\n",
      "  new_data['Exercise Frequency'] = new_data['Exercise Frequency'].replace('Daily', 0)\n",
      "C:\\Users\\Guima\\AppData\\Local\\Temp\\ipykernel_10956\\41365884.py:41: SettingWithCopyWarning: \n",
      "A value is trying to be set on a copy of a slice from a DataFrame.\n",
      "Try using .loc[row_indexer,col_indexer] = value instead\n",
      "\n",
      "See the caveats in the documentation: https://pandas.pydata.org/pandas-docs/stable/user_guide/indexing.html#returning-a-view-versus-a-copy\n",
      "  new_data['Exercise Frequency'] = new_data['Exercise Frequency'].replace('Weekly', 1)\n",
      "C:\\Users\\Guima\\AppData\\Local\\Temp\\ipykernel_10956\\41365884.py:42: SettingWithCopyWarning: \n",
      "A value is trying to be set on a copy of a slice from a DataFrame.\n",
      "Try using .loc[row_indexer,col_indexer] = value instead\n",
      "\n",
      "See the caveats in the documentation: https://pandas.pydata.org/pandas-docs/stable/user_guide/indexing.html#returning-a-view-versus-a-copy\n",
      "  new_data['Exercise Frequency'] = new_data['Exercise Frequency'].replace('Monthly', 2)\n",
      "C:\\Users\\Guima\\AppData\\Local\\Temp\\ipykernel_10956\\41365884.py:43: FutureWarning: Downcasting behavior in `replace` is deprecated and will be removed in a future version. To retain the old behavior, explicitly call `result.infer_objects(copy=False)`. To opt-in to the future behavior, set `pd.set_option('future.no_silent_downcasting', True)`\n",
      "  new_data['Exercise Frequency'] = new_data['Exercise Frequency'].replace('Rarely', 3)\n",
      "C:\\Users\\Guima\\AppData\\Local\\Temp\\ipykernel_10956\\41365884.py:43: SettingWithCopyWarning: \n",
      "A value is trying to be set on a copy of a slice from a DataFrame.\n",
      "Try using .loc[row_indexer,col_indexer] = value instead\n",
      "\n",
      "See the caveats in the documentation: https://pandas.pydata.org/pandas-docs/stable/user_guide/indexing.html#returning-a-view-versus-a-copy\n",
      "  new_data['Exercise Frequency'] = new_data['Exercise Frequency'].replace('Rarely', 3)\n"
     ]
    },
    {
     "name": "stdout",
     "output_type": "stream",
     "text": [
      "<class 'pandas.core.frame.DataFrame'>\n",
      "Index: 92985 entries, 3 to 278854\n",
      "Data columns (total 21 columns):\n",
      " #   Column                Non-Null Count  Dtype  \n",
      "---  ------                --------------  -----  \n",
      " 0   Age                   92985 non-null  int64  \n",
      " 1   Gender                92985 non-null  bool   \n",
      " 2   Annual Income         92985 non-null  float64\n",
      " 3   Marital Status        92985 non-null  int64  \n",
      " 4   Number of Dependents  92985 non-null  int64  \n",
      " 5   Education Level       92985 non-null  int64  \n",
      " 6   Occupation            92985 non-null  int64  \n",
      " 7   Health Score          92985 non-null  float64\n",
      " 8   Location              92985 non-null  int64  \n",
      " 9   Policy Type           92985 non-null  int64  \n",
      " 10  Previous Claims       92985 non-null  int64  \n",
      " 11  Vehicle Age           92985 non-null  int64  \n",
      " 12  Credit Score          92985 non-null  int64  \n",
      " 13  Insurance Duration    92985 non-null  int64  \n",
      " 14  Premium Amount        92985 non-null  int64  \n",
      " 15  Policy Start Date     92985 non-null  object \n",
      " 16  Customer Feedback     92985 non-null  int64  \n",
      " 17  Smoking Status        92985 non-null  bool   \n",
      " 18  Exercise Frequency    92985 non-null  int64  \n",
      " 19  Property Type         92985 non-null  object \n",
      " 20  Property Data         92985 non-null  object \n",
      "dtypes: bool(2), float64(2), int64(14), object(3)\n",
      "memory usage: 14.4+ MB\n",
      "None\n"
     ]
    }
   ],
   "source": [
    "# Change data types\n",
    "new_data['Age'] = new_data['Age'].astype(int)\n",
    "new_data['Gender'] = new_data['Gender'].astype(bool)\n",
    "new_data['Number of Dependents'] = new_data['Number of Dependents'].astype(int)\n",
    "new_data['Previous Claims'] = new_data['Previous Claims'].astype(int)\n",
    "new_data['Credit Score'] = new_data['Credit Score'].astype(int)\n",
    "new_data['Premium Amount'] = new_data['Premium Amount'].astype(int)\n",
    "new_data['Smoking Status'] = new_data['Smoking Status'].astype(bool)\n",
    "\n",
    "# Convert categorical features to numerical\n",
    "new_data['Marital Status'] = new_data['Marital Status'].replace('Divorced', 2)\n",
    "new_data['Marital Status'] = new_data['Marital Status'].replace('Married', 1)\n",
    "new_data['Marital Status'] = new_data['Marital Status'].replace('Single', 0)\n",
    "\n",
    "new_data['Education Level'] = new_data['Education Level'].replace('Master\\'s', 0)\n",
    "new_data['Education Level'] = new_data['Education Level'].replace('Bachelor\\'s', 1)\n",
    "new_data['Education Level'] = new_data['Education Level'].replace('PhD', 2)\n",
    "new_data['Education Level'] = new_data['Education Level'].replace('High School', 3)\n",
    "\n",
    "new_data['Occupation'] = new_data['Occupation'].replace('Self-Employed', 0)\n",
    "new_data['Occupation'] = new_data['Occupation'].replace('Employed', 1)\n",
    "new_data['Occupation'] = new_data['Occupation'].replace('Unemployed', 2)\n",
    "\n",
    "new_data['Policy Type'] = new_data['Policy Type'].replace('Comprehensive', 0)\n",
    "new_data['Policy Type'] = new_data['Policy Type'].replace('Premium', 1)\n",
    "new_data['Policy Type'] = new_data['Policy Type'].replace('Basic', 2)\n",
    "\n",
    "new_data['Location'] = new_data['Location'].replace('Urban', 0)\n",
    "new_data['Location'] = new_data['Location'].replace('Suburban', 1)\n",
    "new_data['Location'] = new_data['Location'].replace('Rural', 2)\n",
    "\n",
    "new_data['Property Data'] = new_data['Property Type'].replace('Apartment', 0)\n",
    "new_data['Property Data'] = new_data['Property Type'].replace('House', 1)\n",
    "new_data['Property Data'] = new_data['Property Type'].replace('Condo', 2)\n",
    "\n",
    "new_data['Customer Feedback'] = new_data['Customer Feedback'].replace('Poor', 0)\n",
    "new_data['Customer Feedback'] = new_data['Customer Feedback'].replace('Average', 1)\n",
    "new_data['Customer Feedback'] = new_data['Customer Feedback'].replace('Good', 2)\n",
    "\n",
    "new_data['Exercise Frequency'] = new_data['Exercise Frequency'].replace('Daily', 0)\n",
    "new_data['Exercise Frequency'] = new_data['Exercise Frequency'].replace('Weekly', 1)\n",
    "new_data['Exercise Frequency'] = new_data['Exercise Frequency'].replace('Monthly', 2)\n",
    "new_data['Exercise Frequency'] = new_data['Exercise Frequency'].replace('Rarely', 3)\n",
    "\n",
    "print(new_data.info())"
   ]
  }
 ],
 "metadata": {
  "kernelspec": {
   "display_name": "Python 3",
   "language": "python",
   "name": "python3"
  },
  "language_info": {
   "codemirror_mode": {
    "name": "ipython",
    "version": 3
   },
   "file_extension": ".py",
   "mimetype": "text/x-python",
   "name": "python",
   "nbconvert_exporter": "python",
   "pygments_lexer": "ipython3",
   "version": "3.12.5"
  }
 },
 "nbformat": 4,
 "nbformat_minor": 2
}
